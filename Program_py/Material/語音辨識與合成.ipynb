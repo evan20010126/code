{
 "cells": [
  {
   "cell_type": "code",
   "execution_count": 1,
   "id": "db6e68b7",
   "metadata": {},
   "outputs": [
    {
     "name": "stdout",
     "output_type": "stream",
     "text": [
      "pygame 2.0.1 (SDL 2.0.14, Python 3.9.5)\n",
      "Hello from the pygame community. https://www.pygame.org/contribute.html\n"
     ]
    }
   ],
   "source": [
    "try:\n",
    "  import speech_recognition as sr\n",
    "except:\n",
    "  !pip install SpeechRecognition\n",
    "  import speech_recognition as sr\n",
    "try:\n",
    "  import pyaudio\n",
    "except:\n",
    "  !pip install pipwin\n",
    "  !pipwin install pyaudio\n",
    "  import pyaudio\n",
    "\n",
    "try:\n",
    "  from gtts import gTTS\n",
    "except:\n",
    "  !pip install gTTS\n",
    "  from gtts import gTTS\n",
    "    \n",
    "try:\n",
    "  import pygame \n",
    "except:\n",
    "  !pip install pygame  \n",
    "  import pygame \n",
    "    \n",
    "from io import BytesIO    "
   ]
  },
  {
   "cell_type": "markdown",
   "id": "fba19d01",
   "metadata": {},
   "source": [
    "#### 使用語音辨識 程式樣板\n",
    "    def bot_listening():\n",
    "      rg = sr.Recognizer()\n",
    "      with sr.Microphone() as source: # 語音來源\n",
    "        audioData = rg.listen(source)\n",
    "        try:\n",
    "          text = rg.recognize_google(audioData, language='zh-tw')\n",
    "        except:\n",
    "          text = None\n",
    "      return text    \n",
    "+ language\n",
    "<a href='https://cloud.google.com/speech-to-text/docs/languages' target='blank_'>支持的語言及其代碼</a>"
   ]
  },
  {
   "cell_type": "code",
   "execution_count": 15,
   "id": "d15af7c1",
   "metadata": {},
   "outputs": [],
   "source": [
    "import os\n",
    "import tempfile\n",
    "class speech_to_text:\n",
    "  def __init__(self):  \n",
    "    self.rg = sr.Recognizer()\n",
    "  def listen(self,lang='zh-tw'):  \n",
    "    with sr.Microphone() as source:\n",
    "      audioData = self.rg.listen(source)\n",
    "      try:\n",
    "        text = self.rg.recognize_google(audioData, language=lang)    \n",
    "      except:\n",
    "        text = ''\n",
    "    return text\n",
    "\n",
    "class text_to_speech:\n",
    "  def __init__(self):\n",
    "    self.active_mp3  = 'c:\\\\tmp\\\\tmp2.mp3'\n",
    "    pygame.mixer.init()\n",
    "  def __del__(self):\n",
    "    try:\n",
    "      os.unlink(self.active_mp3)  \n",
    "    except:\n",
    "      pass  \n",
    "\n",
    "  def speak(self,text,lang='zh-tw'): \n",
    "    tts= gTTS(text, lang=lang)\n",
    "    tts.save(self.active_mp3)\n",
    "    pygame.mixer.music.load(self.active_mp3)\n",
    "    pygame.mixer.music.play()\n",
    "    while pygame.mixer.music.get_busy():\n",
    "      continue\n",
    "    pygame.mixer.music.unload()\n",
    "    return\n",
    "  \n",
    "        \n",
    "st = speech_to_text()\n",
    "ts = text_to_speech()\n",
    "ts.speak(st.listen())"
   ]
  },
  {
   "cell_type": "code",
   "execution_count": 13,
   "id": "d5407307",
   "metadata": {},
   "outputs": [],
   "source": [
    "del ts"
   ]
  },
  {
   "cell_type": "code",
   "execution_count": null,
   "id": "4e70fb0e",
   "metadata": {},
   "outputs": [],
   "source": []
  }
 ],
 "metadata": {
  "kernelspec": {
   "display_name": "Python 3",
   "language": "python",
   "name": "python3"
  },
  "language_info": {
   "codemirror_mode": {
    "name": "ipython",
    "version": 3
   },
   "file_extension": ".py",
   "mimetype": "text/x-python",
   "name": "python",
   "nbconvert_exporter": "python",
   "pygments_lexer": "ipython3",
   "version": "3.9.5"
  }
 },
 "nbformat": 4,
 "nbformat_minor": 5
}
